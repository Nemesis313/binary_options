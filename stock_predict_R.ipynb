{
 "cells": [
  {
   "cell_type": "markdown",
   "metadata": {},
   "source": [
    "# Modelling next day direction\n"
   ]
  },
  {
   "cell_type": "markdown",
   "metadata": {},
   "source": [
    "# Resources\n",
    "\n",
    "### Stock trading papers\n",
    "* http://cs229.stanford.edu/proj2012/ShenJiangZhang-StockMarketForecastingusingMachineLearningAlgorithms.pdf\n",
    "\n",
    "### Trading tutorials\n",
    "* https://www.toptal.com/machine-learning/s-p-500-automated-trading\n",
    "* http://francescopochetti.com/stock-market-prediction-part-ii-feature-generation/\n",
    "\n",
    "### Live data feeds\n",
    "* https://www.quora.com/What-are-some-good-APIs-to-get-real-time-stock-quotes\n",
    "* https://www.programmableweb.com/news/96-stocks-apis-bloomberg-nasdaq-and-etrade/2013/05/22\n",
    "* http://quant.stackexchange.com/questions/32336/api-or-service-to-get-german-dax-and-uk-ftse-historical-and-or-live-minute-data\n",
    "* http://quant.stackexchange.com/questions/18215/where-to-get-long-time-historical-intraday-data?rq=1\n",
    "\n",
    "\n",
    "### About binary options\n",
    "* http://www.investopedia.com/articles/active-trading/061114/guide-trading-binary-options-us.asp\n",
    "* http://www.investopedia.com/terms/b/binary-option.asp\n",
    "\n",
    "### Tools\n",
    "* https://github.com/KlausGlueckert/GetOldTweets-python/blob/master/README.md\n"
   ]
  }
 ],
 "metadata": {
  "anaconda-cloud": {},
  "kernelspec": {
   "display_name": "R",
   "language": "R",
   "name": "ir"
  },
  "language_info": {
   "codemirror_mode": "r",
   "file_extension": ".r",
   "mimetype": "text/x-r-source",
   "name": "R",
   "pygments_lexer": "r",
   "version": "3.3.2"
  }
 },
 "nbformat": 4,
 "nbformat_minor": 1
}
